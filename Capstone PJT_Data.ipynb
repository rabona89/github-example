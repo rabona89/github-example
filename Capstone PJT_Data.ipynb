{
 "cells": [
  {
   "cell_type": "markdown",
   "metadata": {},
   "source": [
    "# Data"
   ]
  },
  {
   "cell_type": "markdown",
   "metadata": {},
   "source": [
    "To solve the problem, I will use the following data"
   ]
  },
  {
   "cell_type": "markdown",
   "metadata": {},
   "source": [
    "- List of neighborhoods in LA\n",
    "- Latitude and longitude of the neighborhoods\n",
    "- Venue data related to hotels "
   ]
  },
  {
   "cell_type": "markdown",
   "metadata": {},
   "source": [
    "***"
   ]
  },
  {
   "cell_type": "markdown",
   "metadata": {},
   "source": [
    "Wikipedia contains a list of neighborhoods of LA(https://en.wikipedia.org/wiki/List_of_districts_and_neighborhoods_of_Los_Angeles).\n",
    "I will use web scrolling techniques to extract data from the page, with Python requests and Beautiful Soup packages. Then I will match the geographical data with the venue data from Foursquare API. \n",
    "This project will require lots of data analytics skills such as web scrolling, data cleansing, data visualization, and machin"
   ]
  }
 ],
 "metadata": {
  "kernelspec": {
   "display_name": "Python",
   "language": "python",
   "name": "conda-env-python-py"
  },
  "language_info": {
   "codemirror_mode": {
    "name": "ipython",
    "version": 3
   },
   "file_extension": ".py",
   "mimetype": "text/x-python",
   "name": "python",
   "nbconvert_exporter": "python",
   "pygments_lexer": "ipython3",
   "version": "3.6.10"
  }
 },
 "nbformat": 4,
 "nbformat_minor": 4
}
