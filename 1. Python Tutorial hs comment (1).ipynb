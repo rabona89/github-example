{
 "cells": [
  {
   "cell_type": "markdown",
   "metadata": {},
   "source": [
    "# 파이썬(Python) 튜토리얼\n",
    "\n",
    "파이썬은 프로그래밍을 처음 접하는 분들 입장에서는 가장 쉽게 배울 수 있는 프로그래밍 언어 중 하나입니다. 파이썬은 고레벨 프로그래밍 언어(High-Level Programming Language)이기 때문에, 일반인이 보유하고 있는 기초 상식과 직관에 가능한 일치하도록 구현되어 있습니다."
   ]
  },
  {
   "cell_type": "code",
   "execution_count": 1,
   "metadata": {},
   "outputs": [
    {
     "data": {
      "text/plain": [
       "2"
      ]
     },
     "execution_count": 1,
     "metadata": {},
     "output_type": "execute_result"
    }
   ],
   "source": [
    "# 덧셈\n",
    "1 + 1"
   ]
  },
  {
   "cell_type": "code",
   "execution_count": 2,
   "metadata": {},
   "outputs": [
    {
     "data": {
      "text/plain": [
       "3"
      ]
     },
     "execution_count": 2,
     "metadata": {},
     "output_type": "execute_result"
    }
   ],
   "source": [
    "# 뺄셈\n",
    "7 - 4"
   ]
  },
  {
   "cell_type": "markdown",
   "metadata": {},
   "source": [
    "하지만 파이썬이 언제나 인간의 직관과 상식에 정확하게 일치하도록 동작하는 것은 아닙니다. 다음의 예시를 통해 이를 확인할 수 있습니다."
   ]
  },
  {
   "cell_type": "code",
   "execution_count": 3,
   "metadata": {},
   "outputs": [
    {
     "data": {
      "text/plain": [
       "12"
      ]
     },
     "execution_count": 3,
     "metadata": {},
     "output_type": "execute_result"
    }
   ],
   "source": [
    "# 곱셈. 3 x 4는 알파벳 엑스(x)와 헷갈릴 수 있기 때문에, 코드를 명시적으로 작성하기 위해 별표(*)로 대체합니다.\n",
    "3 * 4"
   ]
  },
  {
   "cell_type": "code",
   "execution_count": 4,
   "metadata": {},
   "outputs": [
    {
     "data": {
      "text/plain": [
       "1.5"
      ]
     },
     "execution_count": 4,
     "metadata": {},
     "output_type": "execute_result"
    }
   ],
   "source": [
    "# 나눗셈. 나눗셈 기호(÷)는 키보드에 없기 때문에, 편의를 위해 슬래시(/)로 대체합니다.\n",
    "3 / 2"
   ]
  },
  {
   "cell_type": "markdown",
   "metadata": {},
   "source": [
    "파이썬은 덧셈, 뺄셈, 곱셈, 나눗셈 외에도 나머지 연산(%)을 지원합니다."
   ]
  },
  {
   "cell_type": "code",
   "execution_count": 5,
   "metadata": {},
   "outputs": [
    {
     "data": {
      "text/plain": [
       "3"
      ]
     },
     "execution_count": 5,
     "metadata": {},
     "output_type": "execute_result"
    }
   ],
   "source": [
    "# 13에서 5를 나눈 나머지(%)는 3이 된다.\n",
    "13 % 5"
   ]
  },
  {
   "cell_type": "markdown",
   "metadata": {},
   "source": [
    "파이썬은 등호 두 개(==)를 통해 왼쪽과 오른쪽의 결과를 비교할 수 있습니다. (등호 하나(=)는 변수에 값을 할당하는 용도로 사용하기 때문에, 코드를 명시적으로 작성하기 위해 비교 연산은 등호 두 개(==)를 이용합니다)"
   ]
  },
  {
   "cell_type": "code",
   "execution_count": 6,
   "metadata": {},
   "outputs": [
    {
     "data": {
      "text/plain": [
       "True"
      ]
     },
     "execution_count": 6,
     "metadata": {},
     "output_type": "execute_result"
    }
   ],
   "source": [
    "# 1에서 2를 더한 결과는 3이므로, 참(True)이 나옵니다.\n",
    "1 + 2 == 3"
   ]
  },
  {
   "cell_type": "code",
   "execution_count": 7,
   "metadata": {},
   "outputs": [
    {
     "data": {
      "text/plain": [
       "False"
      ]
     },
     "execution_count": 7,
     "metadata": {},
     "output_type": "execute_result"
    }
   ],
   "source": [
    "# 1에서 2를 더한 결과는 4가 아니기 때문에, 거짓(False)이 나옵니다.\n",
    "1 + 2 == 4"
   ]
  },
  {
   "cell_type": "markdown",
   "metadata": {},
   "source": [
    "프로그래밍 언어는 적은 문법을 다양하게 응용함으로서 동작하는 무언가(=프로그램)를 만들어 냅니다. 다음은 나머지 연산자와 비교 연산자 두 개를 응용한 코드입니다."
   ]
  },
  {
   "cell_type": "code",
   "execution_count": 8,
   "metadata": {},
   "outputs": [
    {
     "data": {
      "text/plain": [
       "True"
      ]
     },
     "execution_count": 8,
     "metadata": {},
     "output_type": "execute_result"
    }
   ],
   "source": [
    "# 10을 2로 나눈 나머지는 0이므로 참(True)이 나옵니다. 즉, 이 코드는 짝수와 홀수를 구분하는 용도로 쓰입니다.\n",
    "10 % 2 == 0"
   ]
  },
  {
   "cell_type": "code",
   "execution_count": 9,
   "metadata": {},
   "outputs": [
    {
     "data": {
      "text/plain": [
       "False"
      ]
     },
     "execution_count": 9,
     "metadata": {},
     "output_type": "execute_result"
    }
   ],
   "source": [
    "# 반면, 11을 2로 나눈 나머지는 0이 아니므로 거짓(False)이 나옵니다.\n",
    "11 % 2 == 0"
   ]
  },
  {
   "cell_type": "markdown",
   "metadata": {},
   "source": [
    "어떤 경우에는 하나의 조건이 아닌, 두 개 이상의 조건을 중복해서 사용해야 할 경우가 있습니다. 이럴 경우에는 and와 or를 사용합니다."
   ]
  },
  {
   "cell_type": "code",
   "execution_count": 10,
   "metadata": {},
   "outputs": [
    {
     "data": {
      "text/plain": [
       "True"
      ]
     },
     "execution_count": 10,
     "metadata": {},
     "output_type": "execute_result"
    }
   ],
   "source": [
    "# 12를 2로 나눈 나머지는 0이고, 마찬가지로 3으로 나눈 나머지도 0입니다. 그러므로 결과는 참(True)이 나옵니다.\n",
    "12 % 2 == 0 and 12 % 3 == 0"
   ]
  },
  {
   "cell_type": "code",
   "execution_count": 11,
   "metadata": {},
   "outputs": [
    {
     "data": {
      "text/plain": [
       "False"
      ]
     },
     "execution_count": 11,
     "metadata": {},
     "output_type": "execute_result"
    }
   ],
   "source": [
    "# 14는 2로 나눈 나머지가 0이지만, 3으로 나눈 나머지는 0이 아닙니다. 그러므로 결과는 거짓(False)이 나옵니다.\n",
    "14 % 2 == 0 and 14 % 3 == 0"
   ]
  },
  {
   "cell_type": "code",
   "execution_count": 12,
   "metadata": {},
   "outputs": [
    {
     "data": {
      "text/plain": [
       "True"
      ]
     },
     "execution_count": 12,
     "metadata": {},
     "output_type": "execute_result"
    }
   ],
   "source": [
    "# 반면 or 조건은 둘 중 하나만 참이여도 참이 되기 때문에, 아래의 코드는 결과적으로 참(True)이 출력됩니다.\n",
    "14 % 2 == 0 or 14 % 3 == 0"
   ]
  },
  {
   "cell_type": "markdown",
   "metadata": {},
   "source": [
    "## 변수"
   ]
  },
  {
   "cell_type": "markdown",
   "metadata": {},
   "source": [
    "변수를 이용해서 값을 할당할 수 있다. 변수를 할당 할 때는 = 한 개 만 이용합니다. (ex. 변수명 = 값)"
   ]
  },
  {
   "cell_type": "code",
   "execution_count": 13,
   "metadata": {},
   "outputs": [
    {
     "data": {
      "text/plain": [
       "8"
      ]
     },
     "execution_count": 13,
     "metadata": {},
     "output_type": "execute_result"
    }
   ],
   "source": [
    "# a 변수에 3을 할당 합니다.\n",
    "a = 3\n",
    "# b 변수에 5를 할당 합니다.\n",
    "b = 5\n",
    "\n",
    "# 변수 a의 값 3과 변수 b의 값 5가 더해져 결과는 8이 나옵니다.\n",
    "a + b"
   ]
  },
  {
   "cell_type": "code",
   "execution_count": 14,
   "metadata": {},
   "outputs": [
    {
     "data": {
      "text/plain": [
       "16"
      ]
     },
     "execution_count": 14,
     "metadata": {},
     "output_type": "execute_result"
    }
   ],
   "source": [
    "# a에는 3이 b에는 13이 할당 됩니다.\n",
    "a = 3\n",
    "b = 13\n",
    "\n",
    "# 변수 a의 값 3과 변수 b의 값 13가 더해져 결과는 16이 나옵니다.\n",
    "a + b"
   ]
  },
  {
   "cell_type": "code",
   "execution_count": 15,
   "metadata": {},
   "outputs": [
    {
     "name": "stdout",
     "output_type": "stream",
     "text": [
      "4\n"
     ]
    },
    {
     "data": {
      "text/plain": [
       "6"
      ]
     },
     "execution_count": 15,
     "metadata": {},
     "output_type": "execute_result"
    }
   ],
   "source": [
    "a = 3\n",
    "\n",
    "# 변수에 값을 변경하여 다시 할당할 수 있습니다.\n",
    "# (a의 기존 값 3과 1을 더한 결과 값을 다시 a에 할당합니다.)\n",
    "a = a + 1\n",
    "\n",
    "# 참고사항 : 쥬피터 노트북은 가장 마지막의 연산값만 출력합니다. 중간값 출력을 원한다면 print()를 활용하면 됩니다.\n",
    "\n",
    "# a의 값은 4이므로 4가 출력됩니다.\n",
    "print(a)\n",
    "\n",
    "# a는 a의 값 4와 2를 더한 결과 값이 할당됩니다.\n",
    "a = a + 2\n",
    "a"
   ]
  },
  {
   "cell_type": "markdown",
   "metadata": {},
   "source": [
    "문장을 프로그래밍 언어에서 다룰 수 있습니다. 그리고 그 문장을 문자열이라고 부릅니다."
   ]
  },
  {
   "cell_type": "code",
   "execution_count": 16,
   "metadata": {},
   "outputs": [
    {
     "data": {
      "text/plain": [
       "'Hello World!'"
      ]
     },
     "execution_count": 16,
     "metadata": {},
     "output_type": "execute_result"
    }
   ],
   "source": [
    "# 문자열에 \" \"를 사용하는 이유는 변수(명령어, 예약어 등등)와 헷갈릴수 있기 때문입니다.\n",
    "\"Hello World!\""
   ]
  },
  {
   "cell_type": "code",
   "execution_count": 17,
   "metadata": {},
   "outputs": [
    {
     "data": {
      "text/plain": [
       "'Hello World!'"
      ]
     },
     "execution_count": 17,
     "metadata": {},
     "output_type": "execute_result"
    }
   ],
   "source": [
    "# 문자열에서는 ' '를 사용할 수도 있습니다.\n",
    "'Hello World!'"
   ]
  },
  {
   "cell_type": "code",
   "execution_count": 18,
   "metadata": {},
   "outputs": [
    {
     "data": {
      "text/plain": [
       "\"Shayne's Name?\""
      ]
     },
     "execution_count": 18,
     "metadata": {},
     "output_type": "execute_result"
    }
   ],
   "source": [
    "# \" \"와 ' ' 둘 다 사용가능한 이유는 문자열에 '을 사용할 수도 있기 때문에 오류를 방지하기 위해서입니다.\n",
    "\"Shayne's Name?\"\n",
    "\n",
    "# 'I say \"Hello World!\"' \n",
    "# ' '를 활용해서 문자열에서 \"도 활용이 가능합니다."
   ]
  },
  {
   "cell_type": "code",
   "execution_count": 19,
   "metadata": {},
   "outputs": [
    {
     "ename": "NameError",
     "evalue": "name 'tmp' is not defined",
     "output_type": "error",
     "traceback": [
      "\u001b[0;31m---------------------------------------------------------------------------\u001b[0m",
      "\u001b[0;31mNameError\u001b[0m                                 Traceback (most recent call last)",
      "\u001b[0;32m<ipython-input-19-e6be3f39e8cf>\u001b[0m in \u001b[0;36m<module>\u001b[0;34m()\u001b[0m\n\u001b[1;32m      1\u001b[0m \u001b[0;31m# jupyter notebook에서는 한 번 변수를 할당하면 파이썬 문장을 지워도 계속 유지 된다. 그래서 오류가 발생할 수 있습니다.\u001b[0m\u001b[0;34m\u001b[0m\u001b[0;34m\u001b[0m\u001b[0m\n\u001b[1;32m      2\u001b[0m \u001b[0;31m# 헷갈리지 않으려면 다시 시작할 때 menu -> Kernel -> Restart & Clear Output를 하고 다시 실행하면 좋습니다.\u001b[0m\u001b[0;34m\u001b[0m\u001b[0;34m\u001b[0m\u001b[0m\n\u001b[0;32m----> 3\u001b[0;31m \u001b[0mtmp\u001b[0m\u001b[0;34m\u001b[0m\u001b[0m\n\u001b[0m",
      "\u001b[0;31mNameError\u001b[0m: name 'tmp' is not defined"
     ]
    }
   ],
   "source": [
    "# jupyter notebook에서는 한 번 변수를 할당하면 파이썬 문장을 지워도 계속 유지 된다. 그래서 오류가 발생할 수 있습니다.\n",
    "# 헷갈리지 않으려면 다시 시작할 때 menu -> Kernel -> Restart & Clear Output를 하고 다시 실행하면 좋습니다.\n",
    "# tmp"
   ]
  },
  {
   "cell_type": "code",
   "execution_count": 20,
   "metadata": {},
   "outputs": [
    {
     "ename": "TypeError",
     "evalue": "unsupported operand type(s) for +: 'int' and 'str'",
     "output_type": "error",
     "traceback": [
      "\u001b[0;31m---------------------------------------------------------------------------\u001b[0m",
      "\u001b[0;31mTypeError\u001b[0m                                 Traceback (most recent call last)",
      "\u001b[0;32m<ipython-input-20-f3034dcc4d40>\u001b[0m in \u001b[0;36m<module>\u001b[0;34m()\u001b[0m\n\u001b[1;32m      2\u001b[0m \u001b[0;31m# int == integer == 숫자\u001b[0m\u001b[0;34m\u001b[0m\u001b[0;34m\u001b[0m\u001b[0m\n\u001b[1;32m      3\u001b[0m \u001b[0;31m# str == string == 문자\u001b[0m\u001b[0;34m\u001b[0m\u001b[0;34m\u001b[0m\u001b[0m\n\u001b[0;32m----> 4\u001b[0;31m \u001b[0;36m1\u001b[0m \u001b[0;34m+\u001b[0m \u001b[0;34m\"2\"\u001b[0m\u001b[0;34m\u001b[0m\u001b[0m\n\u001b[0m\u001b[1;32m      5\u001b[0m \u001b[0;34m\u001b[0m\u001b[0m\n\u001b[1;32m      6\u001b[0m \u001b[0;31m# error는 잘 못된 부분을 알려주기 위해서 발생한다.\u001b[0m\u001b[0;34m\u001b[0m\u001b[0;34m\u001b[0m\u001b[0m\n",
      "\u001b[0;31mTypeError\u001b[0m: unsupported operand type(s) for +: 'int' and 'str'"
     ]
    }
   ],
   "source": [
    "# 같은 형의 데이터들 끼리만 연산(+)이 가능합니다. (숫자와 문자는 더할 수 없다.)\n",
    "# int == integer == 숫자\n",
    "# str == string == 문자\n",
    "1 + \"2\"\n",
    "\n",
    "# error는 잘 못된 부분을 알려주기 위해서 발생한다. \n",
    "# 잘 못된 부분을 알려주지 않으면 다른 사람들과 코딩을 해야는데 서로 알 수가 없어서 힘들어집니다.\n",
    "\n",
    "# error 상황 시 대처 팁\n",
    "# 에러가 발생하면 당황하지 말고 에러의 마지막 문장을 천천히 살펴본다. (TypeError: unsupported operand type(s) for +: 'int' and 'str')\n",
    "# 마지막 문장을 보고 그 위로 올려보면 에러가 발생한 위치를 나타내준다.\n",
    "# 그래도 안되면 에러의 마지막 문장을 구글에 찾아본다.(unsupported operand type(s) for +: 'int' and 'str'를 찾아본다.)\n",
    "# stack overflow 라는 사이트에 내용은 믿을만 합니다."
   ]
  },
  {
   "cell_type": "code",
   "execution_count": 21,
   "metadata": {},
   "outputs": [
    {
     "data": {
      "text/plain": [
       "'12'"
      ]
     },
     "execution_count": 21,
     "metadata": {},
     "output_type": "execute_result"
    }
   ],
   "source": [
    "# 문자 더하기 연산(+)은 문자끼리 붙여준다.\n",
    "# 문자 '1'과 문자 '2'가 더해서 문자'12'가 결과가 됩니다.\n",
    "\"1\" + \"2\""
   ]
  },
  {
   "cell_type": "markdown",
   "metadata": {},
   "source": [
    "## 포메팅"
   ]
  },
  {
   "cell_type": "markdown",
   "metadata": {},
   "source": [
    "포메팅은 문자열에 어떤 값을 삽입하는 방법입니다."
   ]
  },
  {
   "cell_type": "code",
   "execution_count": 22,
   "metadata": {},
   "outputs": [
    {
     "data": {
      "text/plain": [
       "'Shayne ate 3 bananas for 5 days'"
      ]
     },
     "execution_count": 22,
     "metadata": {},
     "output_type": "execute_result"
    }
   ],
   "source": [
    "# .format()는 지정한 변수의 값을 순서{0},{1}에 맞게 출력해오는 기능입니다.\n",
    "bananas = 5\n",
    "days = 3\n",
    "\"Shayne ate {1} bananas for {0} days\".format(bananas, days)"
   ]
  },
  {
   "cell_type": "code",
   "execution_count": 23,
   "metadata": {},
   "outputs": [
    {
     "data": {
      "text/plain": [
       "'Shayne ate 5bananas for 3 days.'"
      ]
     },
     "execution_count": 23,
     "metadata": {},
     "output_type": "execute_result"
    }
   ],
   "source": [
    "# 신버전 파이썬의 경우 아래와 같이 축약된 명령어로 대체 가능합니다.\n",
    "f\"Shayne ate {bananas}bananas for {days} days.\""
   ]
  },
  {
   "cell_type": "code",
   "execution_count": 24,
   "metadata": {},
   "outputs": [
    {
     "data": {
      "text/plain": [
       "'[Accuracy] Model A = 0.988 Model B = 0.12346'"
      ]
     },
     "execution_count": 24,
     "metadata": {},
     "output_type": "execute_result"
    }
   ],
   "source": [
    "# 형식을 지정하여 값을 출력할 수 있습니다.\n",
    "model_a = 0.987654321\n",
    "model_b = 0.123456789\n",
    "\n",
    "# f == float == 소숫점\n",
    "# : 은 특수기능의 시작을 나타내고 .5는 5자리 까지 출력하는 것을 뜻하고 f는 float 소숫점의 숫자를 뜻합니다.(소숫점 5자리 까지 출력이 됩니다.)\n",
    "# 1:.3f 는 3자리 까지 소숫점을 출력합니다.\n",
    "\"[Accuracy] Model A = {0:.3f} Model B = {1:.5f}\".format(model_a, model_b)"
   ]
  },
  {
   "cell_type": "code",
   "execution_count": 25,
   "metadata": {},
   "outputs": [
    {
     "data": {
      "text/plain": [
       "'[Accuracy] Model A = 0.98765 Model B = 0.123'"
      ]
     },
     "execution_count": 25,
     "metadata": {},
     "output_type": "execute_result"
    }
   ],
   "source": [
    "# 위의 코드도 아래와 같이 변경 가능합니다.\n",
    "f\"[Accuracy] Model A = {model_a:.5f} Model B = {model_b:.3f}\""
   ]
  },
  {
   "cell_type": "markdown",
   "metadata": {},
   "source": [
    "### 문자열"
   ]
  },
  {
   "cell_type": "code",
   "execution_count": 26,
   "metadata": {
    "collapsed": true
   },
   "outputs": [],
   "source": [
    "# mesage에 문자열 \"Hello World!\"를 할당합니다.\n",
    "message = \"Hello World!\""
   ]
  },
  {
   "cell_type": "code",
   "execution_count": 27,
   "metadata": {},
   "outputs": [
    {
     "name": "stdout",
     "output_type": "stream",
     "text": [
      "H\n",
      "e\n",
      "----\n",
      "!\n",
      "d\n"
     ]
    }
   ],
   "source": [
    "# 문자열의 n 번째 문자를 출력할 수 있습니다.\n",
    "# 프로그래밍의 순서는 0부터 시작 합니다.\n",
    "print(message[0])\n",
    "print(message[1])\n",
    "print(\"----\")\n",
    "\n",
    "# 뒤에서부터 문자를 출력할 때는 -1부터 시작합니다.\n",
    "print(message[-1])\n",
    "print(message[-2])"
   ]
  },
  {
   "cell_type": "code",
   "execution_count": 28,
   "metadata": {},
   "outputs": [
    {
     "data": {
      "text/plain": [
       "'Hell'"
      ]
     },
     "execution_count": 28,
     "metadata": {},
     "output_type": "execute_result"
    }
   ],
   "source": [
    "# 특정 부분만 출력할 수 있습니다.\n",
    "# : 은 슬라이싱 이라고 합니다.\n",
    "# 0:4는 0 번째부터 3 번째까지 출력합니다.\n",
    "message[0:4]"
   ]
  },
  {
   "cell_type": "code",
   "execution_count": 29,
   "metadata": {},
   "outputs": [
    {
     "name": "stdout",
     "output_type": "stream",
     "text": [
      "True\n",
      "False\n",
      "False\n",
      "True\n"
     ]
    }
   ],
   "source": [
    "# 문자열에 특정 문자가 있는지 확인 할 수 있습니다.\n",
    "# 파이썬은 대소문자를 구문합니다.\n",
    "print(\"H\" in message)\n",
    "print(\"h\" in message)\n",
    "print(\"A\" in message)\n",
    "print(\"Hell\" in message)"
   ]
  },
  {
   "cell_type": "code",
   "execution_count": 30,
   "metadata": {},
   "outputs": [
    {
     "data": {
      "text/plain": [
       "'HELLO WORLD!'"
      ]
     },
     "execution_count": 30,
     "metadata": {},
     "output_type": "execute_result"
    }
   ],
   "source": [
    "# 문자열의 특수 기능은 message.를 치고 Tab 키를 누르면 사용할 수 있는 특수 기능 리스트를 확인할 수 있습니다.\n",
    "\n",
    "# upper() 함수는 모든 문자를 대문자로 변환해주는 함수입니다.\n",
    "message.upper()"
   ]
  },
  {
   "cell_type": "code",
   "execution_count": 31,
   "metadata": {},
   "outputs": [
    {
     "data": {
      "text/plain": [
       "'hello world!'"
      ]
     },
     "execution_count": 31,
     "metadata": {},
     "output_type": "execute_result"
    }
   ],
   "source": [
    "# lower() 함수는 모든 문자를 소문자로 변환해주는 함수입니다.\n",
    "message.lower()"
   ]
  },
  {
   "cell_type": "markdown",
   "metadata": {},
   "source": [
    "### 리스트"
   ]
  },
  {
   "cell_type": "markdown",
   "metadata": {},
   "source": [
    "똑같은 코드를 반복적으로 짜야할 때 사용하는 기능이고 여러 개의 변수를 하나로 묶어서 표현하는 방법입니다."
   ]
  },
  {
   "cell_type": "code",
   "execution_count": 32,
   "metadata": {},
   "outputs": [
    {
     "data": {
      "text/plain": [
       "[1, 3, 5, 7, 9]"
      ]
     },
     "execution_count": 32,
     "metadata": {},
     "output_type": "execute_result"
    }
   ],
   "source": [
    "# 대괄호[]를 사용합니다.\n",
    "odd = [1, 3, 5, 7, 9]\n",
    "odd"
   ]
  },
  {
   "cell_type": "code",
   "execution_count": 33,
   "metadata": {},
   "outputs": [
    {
     "name": "stdout",
     "output_type": "stream",
     "text": [
      "1\n",
      "3\n",
      "----\n",
      "9\n",
      "7\n"
     ]
    }
   ],
   "source": [
    "# 문자열을 다루는 것과 공통점이 많다.\n",
    "\n",
    "print(odd[0])\n",
    "print(odd[1])\n",
    "print(\"----\")\n",
    "\n",
    "# - 값은 리스트의 뒤에서 부터 순서를 가리킵니다.\n",
    "print(odd[-1])\n",
    "print(odd[-2])"
   ]
  },
  {
   "cell_type": "code",
   "execution_count": 34,
   "metadata": {},
   "outputs": [
    {
     "data": {
      "text/plain": [
       "[1, 3, 5, 7]"
      ]
     },
     "execution_count": 34,
     "metadata": {},
     "output_type": "execute_result"
    }
   ],
   "source": [
    "# 0번째부터 3번째까지 출력합니다.\n",
    "odd[0:4]"
   ]
  },
  {
   "cell_type": "code",
   "execution_count": 35,
   "metadata": {},
   "outputs": [
    {
     "name": "stdout",
     "output_type": "stream",
     "text": [
      "True\n",
      "False\n",
      "True\n"
     ]
    }
   ],
   "source": [
    "# 리스트에 특정값이 포함되어 있는지 확인할 수 있습니다.\n",
    "print(1 in odd)\n",
    "print(2 in odd)\n",
    "print(3 in odd)"
   ]
  },
  {
   "cell_type": "code",
   "execution_count": 36,
   "metadata": {},
   "outputs": [
    {
     "data": {
      "text/plain": [
       "[1, 3, 5, 7, 9, 11]"
      ]
     },
     "execution_count": 36,
     "metadata": {},
     "output_type": "execute_result"
    }
   ],
   "source": [
    "# 리스트에 특정값을 추가할 수 있습니다.\n",
    "# append 함수는 리스트의 끝에 값을 추가로 저장합니다.\n",
    "# 실행하는 횟수만큼 추가됩니다.\n",
    "odd.append(11)\n",
    "odd"
   ]
  },
  {
   "cell_type": "code",
   "execution_count": 37,
   "metadata": {},
   "outputs": [
    {
     "data": {
      "text/plain": [
       "[1, 3, 5, 7, 9, 11, 13, 15, 17, 19]"
      ]
     },
     "execution_count": 37,
     "metadata": {},
     "output_type": "execute_result"
    }
   ],
   "source": [
    "# 한 번에 여러개의 값을 추가할 수 있습니다.\n",
    "# +를 이용하여 [13, 15, 17, 19]를 odd에 추가합니다.\n",
    "odd = odd + [13, 15, 17, 19]\n",
    "odd"
   ]
  },
  {
   "cell_type": "code",
   "execution_count": 38,
   "metadata": {},
   "outputs": [
    {
     "data": {
      "text/plain": [
       "[1, 3, 5, -1, 9, -1, 13, 15, 17, 19]"
      ]
     },
     "execution_count": 38,
     "metadata": {},
     "output_type": "execute_result"
    }
   ],
   "source": [
    "# 리스트의 특정 위치의 값을 변경할 수 있습니다.\n",
    "odd[3] = -1\n",
    "odd[5] = -1\n",
    "odd"
   ]
  },
  {
   "cell_type": "code",
   "execution_count": 39,
   "metadata": {},
   "outputs": [
    {
     "data": {
      "text/plain": [
       "[1, 3, 5, -1, 9, -1, 13, 15, 17]"
      ]
     },
     "execution_count": 39,
     "metadata": {},
     "output_type": "execute_result"
    }
   ],
   "source": [
    "# pop 함수는 리스트의 마지막 값을 뽑아냅니다.\n",
    "odd.pop()\n",
    "odd"
   ]
  },
  {
   "cell_type": "code",
   "execution_count": 40,
   "metadata": {},
   "outputs": [
    {
     "name": "stdout",
     "output_type": "stream",
     "text": [
      "['Hello', 'World!']\n",
      "['Hell', ' W', 'rld!']\n"
     ]
    }
   ],
   "source": [
    "# 문자열과 리스트는 상호 변환이 가능하다.\n",
    "# 문자 -> 리스트로 변환\n",
    "# split 함수는 특정 문자를 기준으로 문자열을 쪼개어 리스트로 변환 시켜줍니다.\n",
    "message = \"Hello World!\"\n",
    "print(message.split(\" \"))\n",
    "print(message.split(\"o\"))"
   ]
  },
  {
   "cell_type": "code",
   "execution_count": 41,
   "metadata": {},
   "outputs": [
    {
     "name": "stdout",
     "output_type": "stream",
     "text": [
      "Hello World!\n",
      "Hello,World!\n",
      "Hello, World!\n"
     ]
    }
   ],
   "source": [
    "# 리스트를 문자로 변환\n",
    "# join은 split와 반대 되는 함수로 특정 문자로 리스트를 합쳐 하나의 문자열로 만들어줍니다.\n",
    "words = [\"Hello\", \"World!\"]\n",
    "print(\" \".join(words))\n",
    "print(\",\".join(words))\n",
    "print(\", \".join(words))"
   ]
  },
  {
   "cell_type": "markdown",
   "metadata": {},
   "source": [
    "### 제어문 "
   ]
  },
  {
   "cell_type": "code",
   "execution_count": 42,
   "metadata": {},
   "outputs": [
    {
     "name": "stdout",
     "output_type": "stream",
     "text": [
      "아이\n"
     ]
    }
   ],
   "source": [
    "# if 제어문: \n",
    "#    실행문\n",
    "# 조건에 따라 값을 출력할 수 있습니다.\n",
    "age = 3\n",
    "\n",
    "# age가 5보다 작으면 참(True)이므로 \"아이\"가 출력됩니다.\n",
    "# age가 5보다 크면 거짓(False)이므로 \"어른\"가 출력됩니다.\n",
    "if age < 5:\n",
    "    print(\"아이\")\n",
    "else:\n",
    "    print(\"어른\")"
   ]
  },
  {
   "cell_type": "code",
   "execution_count": 43,
   "metadata": {},
   "outputs": [
    {
     "name": "stdout",
     "output_type": "stream",
     "text": [
      "학생\n"
     ]
    }
   ],
   "source": [
    "age = 10\n",
    "\n",
    "# elif 구문으로 조건을 추가할 수 있습니다.\n",
    "# elif 는 계속해서 추가하여 조건을 줄 수 있습니다.\n",
    "\n",
    "# age가 5보다 작으면 \"아이\"가 출력됩니다.\n",
    "# age가 5보다 크고 18 보다 작으면 \"학생\"이 출력됩니다.\n",
    "# age가 18보다 크면 \"어른\"이 출력됩니다.\n",
    "if age < 5:\n",
    "    print(\"아이\")\n",
    "elif age < 18:\n",
    "    print(\"학생\")\n",
    "else:\n",
    "    print(\"어른\")"
   ]
  },
  {
   "cell_type": "markdown",
   "metadata": {},
   "source": [
    "### 반복문"
   ]
  },
  {
   "cell_type": "markdown",
   "metadata": {},
   "source": [
    "반복되는 기능을 한 줄로 처리하는 방법입니다."
   ]
  },
  {
   "cell_type": "code",
   "execution_count": 44,
   "metadata": {},
   "outputs": [
    {
     "name": "stdout",
     "output_type": "stream",
     "text": [
      "apple\n",
      "banana\n",
      "chicken\n",
      "pineapple\n",
      "cherry\n"
     ]
    }
   ],
   "source": [
    "baskets = ['apple', 'banana', 'chicken', 'pineapple', 'cherry']\n",
    "\n",
    "# basket 리스트에 있는 요소를 꺼내서 for문이 실행됩니다.\n",
    "for stuff in baskets:\n",
    "    print(stuff)\n",
    "\n",
    "# 위 반복문은 아래의 실행문과 결과가 같습니다. \n",
    "# stuff = basket[0]\n",
    "# print(stuff)\n",
    "# stuff = basket[1]\n",
    "# print(stuff)\n",
    "# stuff = basket[2]\n",
    "# print(stuff)\n",
    "# stuff = basket[3]\n",
    "# print(stuff)\n",
    "# stuff = basket[4]\n",
    "# print(stuff)\n",
    "# stuff = basket[5]\n",
    "# print(stuff)"
   ]
  },
  {
   "cell_type": "code",
   "execution_count": 45,
   "metadata": {},
   "outputs": [
    {
     "name": "stdout",
     "output_type": "stream",
     "text": [
      "1\n",
      "3\n",
      "4\n"
     ]
    }
   ],
   "source": [
    "# 1부터 5까지 순서대로 실행됩니다.\n",
    "# 반복문 안에서 제어문을 사용할 수 있습니다.\n",
    "# 반복문과 제어문은 띄어쓰기가 중요합니다.\n",
    "for i in range(1, 6):\n",
    "    \n",
    "    if i == 2:\n",
    "        # continue은 해당 루프만 실행하지 않고 다음 루프를 다시 시작합니다.\n",
    "        continue\n",
    "    \n",
    "    if i == 5:\n",
    "        # 아래와 같이 if문 안에 들여써진 print(i)은 if 문에 포함됩니다.\n",
    "        # print(i)\n",
    "        \n",
    "        # break문은 for 반복문을 종료합니다.\n",
    "        break\n",
    "        \n",
    "    # print(i)은 if 문에 불포함\n",
    "    print(i)\n",
    "\n",
    "# range(5) => 0 부터 4 까지\n",
    "# range(1,5) => 1 부터 4 까지\n",
    "# range(1,6) => 1 부터 5 까지"
   ]
  },
  {
   "cell_type": "code",
   "execution_count": 46,
   "metadata": {},
   "outputs": [
    {
     "data": {
      "text/plain": [
       "[2, 4, 6, 8, 12, 14]"
      ]
     },
     "execution_count": 46,
     "metadata": {},
     "output_type": "execute_result"
    }
   ],
   "source": [
    "double_list = []\n",
    "\n",
    "for i in range(1, 11):\n",
    "    \n",
    "    # i가 5이면 현재 루프를 중단하고 다음 루프로 간다.\n",
    "    if i == 5:\n",
    "        continue\n",
    "    \n",
    "    # i가 8이면 for 문이 끝난다.\n",
    "    if i == 8:\n",
    "        break\n",
    "    \n",
    "    # i 값에 2를 곱하여 결과를 double에 할당하고 doublie_list에 추가합니다.\n",
    "    double = i * 2\n",
    "    double_list.append(double)\n",
    "\n",
    "double_list"
   ]
  },
  {
   "cell_type": "markdown",
   "metadata": {},
   "source": [
    "## 함수"
   ]
  },
  {
   "cell_type": "markdown",
   "metadata": {},
   "source": [
    "함수는 많고 복잡한 코드를 하나로 묶어주는 기능 입니다."
   ]
  },
  {
   "cell_type": "code",
   "execution_count": 47,
   "metadata": {},
   "outputs": [
    {
     "name": "stdout",
     "output_type": "stream",
     "text": [
      "2\n",
      "6\n"
     ]
    }
   ],
   "source": [
    "# def == define 특정 함수를 정의합니다.\n",
    "def multiply(a, b):\n",
    "    c = a * b\n",
    "    return c\n",
    "\n",
    "# multiply(1, 2)은\n",
    "# a에는 2를 할당, b에는 3을 할당\n",
    "# a + b의 값를 c에 할당하고 \n",
    "# 반환 시켜준다.\n",
    "print(multiply(1, 2))\n",
    "print(multiply(2, 3))"
   ]
  },
  {
   "cell_type": "code",
   "execution_count": 48,
   "metadata": {},
   "outputs": [
    {
     "name": "stdout",
     "output_type": "stream",
     "text": [
      "음수\n",
      "0\n",
      "양수\n"
     ]
    }
   ],
   "source": [
    "def sign(n):\n",
    "    if n > 0:\n",
    "        return \"양수\"\n",
    "    elif n < 0:\n",
    "        return \"음수\"\n",
    "    else:\n",
    "        return \"0\"\n",
    "\n",
    "for n in [-1, 0, +1]:\n",
    "    print(sign(n))"
   ]
  },
  {
   "cell_type": "markdown",
   "metadata": {},
   "source": [
    "### 팩토리얼\n",
    "  * 3! = 3 x 2 x 1 = 6\n",
    "  * 4! = 4 x 3 x 2 x 1 = 24\n",
    "  * 5! = 5 x 4 x 3 x 2 x 1 = 120"
   ]
  },
  {
   "cell_type": "code",
   "execution_count": 49,
   "metadata": {},
   "outputs": [
    {
     "name": "stdout",
     "output_type": "stream",
     "text": [
      "6\n",
      "24\n",
      "120\n"
     ]
    }
   ],
   "source": [
    "# factorial 함수를 정의합니다.\n",
    "def factorial(n):\n",
    "    # result 변수에 1을 할당합니다.\n",
    "    result = 1\n",
    "    \n",
    "    # 반복문을 이용해서 1 부터 n까지를 반복합니다..\n",
    "    for i in range(1, n + 1):\n",
    "        # result값과 i값을 곱하여 result에 할당합니다.\n",
    "        result = result * i\n",
    "    \n",
    "    # result 값을 반환합니다.\n",
    "    return result\n",
    "\n",
    "print(factorial(3))\n",
    "print(factorial(4))\n",
    "print(factorial(5))"
   ]
  },
  {
   "cell_type": "code",
   "execution_count": null,
   "metadata": {
    "collapsed": true
   },
   "outputs": [],
   "source": []
  }
 ],
 "metadata": {
  "kernelspec": {
   "display_name": "Python 3",
   "language": "python",
   "name": "python3"
  },
  "language_info": {
   "codemirror_mode": {
    "name": "ipython",
    "version": 3
   },
   "file_extension": ".py",
   "mimetype": "text/x-python",
   "name": "python",
   "nbconvert_exporter": "python",
   "pygments_lexer": "ipython3",
   "version": "3.6.5"
  }
 },
 "nbformat": 4,
 "nbformat_minor": 2
}
